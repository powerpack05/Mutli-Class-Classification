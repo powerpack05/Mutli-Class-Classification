{
  "nbformat": 4,
  "nbformat_minor": 0,
  "metadata": {
    "colab": {
      "provenance": [],
      "gpuType": "T4"
    },
    "kernelspec": {
      "name": "python3",
      "display_name": "Python 3"
    },
    "language_info": {
      "name": "python"
    },
    "accelerator": "GPU"
  },
  "cells": [
    {
      "cell_type": "markdown",
      "source": [
        "The MNIST dataset consists of images of digits from a variety of scanned documents. Each image is a 28X28 pixel square. In this dataset 60,000 images are used to train the model and 10,000 images are used to test the model. There are 10 digits (0 to 9) or 10 classes to predict."
      ],
      "metadata": {
        "id": "DEpDmAkTybxx"
      }
    },
    {
      "cell_type": "code",
      "execution_count": null,
      "metadata": {
        "id": "du56UwbDxVWj"
      },
      "outputs": [],
      "source": [
        "import tensorflow as tf\n",
        "import numpy as np\n",
        "from tensorflow.keras.models import Sequential\n",
        "from tensorflow.keras.layers import Dense\n",
        "import matplotlib.pyplot as plt\n",
        "import matplotlib.image as mimg"
      ]
    },
    {
      "cell_type": "markdown",
      "source": [
        "###Loading the MINIST Dataset"
      ],
      "metadata": {
        "id": "B2X729WkzA4U"
      }
    },
    {
      "cell_type": "code",
      "source": [
        "seed = 10\n",
        "np.random.seed(seed)\n",
        "(X_train,y_train),(X_test,y_test) = tf.keras.datasets.mnist.load_data()"
      ],
      "metadata": {
        "id": "5-e6lR-azANR",
        "colab": {
          "base_uri": "https://localhost:8080/"
        },
        "outputId": "99885d78-0206-45c6-adce-41fc0ed0666c"
      },
      "execution_count": null,
      "outputs": [
        {
          "output_type": "stream",
          "name": "stdout",
          "text": [
            "Downloading data from https://storage.googleapis.com/tensorflow/tf-keras-datasets/mnist.npz\n",
            "11490434/11490434 [==============================] - 0s 0us/step\n"
          ]
        }
      ]
    },
    {
      "cell_type": "code",
      "source": [
        "print(\"X train data shape\",X_train.shape)\n",
        "print(\"X test data shape\",X_test.shape)\n",
        "print(\"Y train shape\",y_train.shape)\n",
        "print(\"Y test shape\",y_test.shape)"
      ],
      "metadata": {
        "colab": {
          "base_uri": "https://localhost:8080/"
        },
        "id": "1N7Ad5lizASZ",
        "outputId": "c4038191-79c0-4d57-d705-d7aac5315705"
      },
      "execution_count": null,
      "outputs": [
        {
          "output_type": "stream",
          "name": "stdout",
          "text": [
            "X train data shape (60000, 28, 28)\n",
            "X test data shape (10000, 28, 28)\n",
            "Y train shape (60000,)\n",
            "Y test shape (10000,)\n"
          ]
        }
      ]
    },
    {
      "cell_type": "code",
      "source": [
        "#plotting the image\n",
        "y_labels = {0:'Zero',1:'One',2:'Two',3:'Three',4:'Four',5:'Five',6:'Six',7:'Seven',8:'Eight',9:'Nine'}\n",
        "plt.imshow(X_train[0],cmap='gray')\n",
        "plt.title(f'Label:{y_labels[y_train[0]]}')\n",
        "plt.axis('off')\n",
        "plt.show()"
      ],
      "metadata": {
        "colab": {
          "base_uri": "https://localhost:8080/",
          "height": 428
        },
        "id": "fmujXci46PCi",
        "outputId": "4bfc32c8-4284-49ba-c97e-8b2fb2012a93"
      },
      "execution_count": null,
      "outputs": [
        {
          "output_type": "display_data",
          "data": {
            "text/plain": [
              "<Figure size 640x480 with 1 Axes>"
            ],
            "image/png": "[encoded data removed]"
          },
          "metadata": {}
        }
      ]
    },
    {
      "cell_type": "code",
      "source": [
        "#finding out the unique records of y_train\n",
        "unique_labels = np.unique(y_train)\n",
        "print(f'The Unique Labels of y_train: {unique_labels}')"
      ],
      "metadata": {
        "colab": {
          "base_uri": "https://localhost:8080/"
        },
        "id": "-VcjURXE76ci",
        "outputId": "b3b95e90-6baa-4bb7-9a53-a7ab80fc5618"
      },
      "execution_count": null,
      "outputs": [
        {
          "output_type": "stream",
          "name": "stdout",
          "text": [
            "The Unique Labels of y_train: [0 1 2 3 4 5 6 7 8 9]\n"
          ]
        }
      ]
    },
    {
      "cell_type": "code",
      "source": [
        "#plotting the 5 images\n",
        "xtrain = X_train[:] #Five sample images\n",
        "ytrain = y_train[:]#Five sample labels\n",
        "\n",
        "y_labels = {0:'Zero',1:'One',2:'Two',3:'Three',4:'Four',5:'Five',6:'Six',7:'Seven',8:'Eight',9:'Nine'}\n",
        "#selecting the 5 images to plot\n",
        "number_of_images_to_display = 5\n",
        "selected_indices = np.random.choice(len(xtrain),number_of_images_to_display,replace=False)\n",
        "\n",
        "#plot the selected figures\n",
        "plt.figure(figsize=(15,8))\n",
        "for i,idx in enumerate(selected_indices):\n",
        "  plt.subplot(1,number_of_images_to_display,i+1)\n",
        "  plt.imshow(xtrain[idx],cmap='gray')\n",
        "  plt.title(f'Label :{y_labels[ytrain[idx]]}')\n",
        "  plt.axis('off')\n",
        "plt.show()"
      ],
      "metadata": {
        "colab": {
          "base_uri": "https://localhost:8080/",
          "height": 253
        },
        "id": "BfXkgZS_8ld3",
        "outputId": "3696694b-d499-49c8-ff52-49f2387a39a4"
      },
      "execution_count": null,
      "outputs": [
        {
          "output_type": "display_data",
          "data": {
            "text/plain": [
              "<Figure size 1500x800 with 5 Axes>"
            ],
            "image/png": "[encoded data removed]"
          },
          "metadata": {}
        }
      ]
    },
    {
      "cell_type": "markdown",
      "source": [
        "###DL Model with Multi Layer Perceptron using MINIST\n"
      ],
      "metadata": {
        "id": "yhwQt1j-KDun"
      }
    },
    {
      "cell_type": "markdown",
      "source": [
        "#### Reshaping the data\n"
      ],
      "metadata": {
        "id": "SNwQUTyUKOLK"
      }
    },
    {
      "cell_type": "code",
      "source": [
        "#Reshaping the train and test data\n",
        "X_train_reshaped = X_train.reshape(X_train.shape[0],-1)\n",
        "X_test_reshaped = X_test.reshape(X_test.shape[0],-1)\n",
        "print(\"Before Reshaping Xtrain shape\",X_train.shape,\"After Reshaping Xtrain shape\",X_train_reshaped.shape)\n",
        "print(\"Before Reshaping Xtest shape\",X_test.shape,\"After Resshaping Xtest shape\",X_test_reshaped.shape)"
      ],
      "metadata": {
        "colab": {
          "base_uri": "https://localhost:8080/"
        },
        "id": "0ImfOjp_HnpM",
        "outputId": "0967982c-1fa7-4144-f65a-87fcdf35feda"
      },
      "execution_count": null,
      "outputs": [
        {
          "output_type": "stream",
          "name": "stdout",
          "text": [
            "Before Reshaping Xtrain shape (60000, 28, 28) After Reshaping Xtrain shape (60000, 784)\n",
            "Before Reshaping Xtest shape (10000, 28, 28) After Resshaping Xtest shape (10000, 784)\n"
          ]
        }
      ]
    },
    {
      "cell_type": "code",
      "source": [
        "#X_train_reshaped[0]\n",
        "X_train.ndim,X_train_reshaped.ndim"
      ],
      "metadata": {
        "id": "2GEPk0pePhhA",
        "colab": {
          "base_uri": "https://localhost:8080/"
        },
        "outputId": "055aeb56-b591-42a4-c7da-88243a64f5ff"
      },
      "execution_count": null,
      "outputs": [
        {
          "output_type": "execute_result",
          "data": {
            "text/plain": [
              "(3, 2)"
            ]
          },
          "metadata": {},
          "execution_count": 8
        }
      ]
    },
    {
      "cell_type": "markdown",
      "source": [
        "### Normalizing the dataset"
      ],
      "metadata": {
        "id": "HpyU99D2PbrD"
      }
    },
    {
      "cell_type": "code",
      "source": [
        "X_train_reshaped = X_train_reshaped/255.0\n",
        "X_test_reshaped = X_test_reshaped/255.0"
      ],
      "metadata": {
        "id": "g9h8ISJYHnr3"
      },
      "execution_count": null,
      "outputs": []
    },
    {
      "cell_type": "code",
      "source": [
        "X_train_reshaped[0][0]"
      ],
      "metadata": {
        "colab": {
          "base_uri": "https://localhost:8080/"
        },
        "id": "itKtdkFsHnuc",
        "outputId": "f4d95e5c-3000-43d1-a0a1-31948e1d0979"
      },
      "execution_count": null,
      "outputs": [
        {
          "output_type": "execute_result",
          "data": {
            "text/plain": [
              "0.0"
            ]
          },
          "metadata": {},
          "execution_count": 10
        }
      ]
    },
    {
      "cell_type": "markdown",
      "source": [
        "#### One hot encoding for target varibale"
      ],
      "metadata": {
        "id": "hyt1SL00QTIz"
      }
    },
    {
      "cell_type": "code",
      "source": [
        "##one hot encoding\n",
        "no_of_classes = 10\n",
        "y_train_one_hot = tf.one_hot(y_train,depth=no_of_classes)\n",
        "y_test_one_hot = tf.one_hot(y_test,depth=no_of_classes)"
      ],
      "metadata": {
        "id": "-BxAfy_OHnxF"
      },
      "execution_count": null,
      "outputs": []
    },
    {
      "cell_type": "code",
      "source": [
        "print(\"Before One hot encoding\",y_train.shape,\"After one hot encoding\",y_train_one_hot.shape)\n",
        "print(\"Before One hot encoding\",y_test.shape,\"After one hot encoding\",y_test_one_hot.shape)"
      ],
      "metadata": {
        "id": "JQaWGMrcHnzp",
        "colab": {
          "base_uri": "https://localhost:8080/"
        },
        "outputId": "6daa3694-4c4c-4a56-9aad-7f72c181a204"
      },
      "execution_count": null,
      "outputs": [
        {
          "output_type": "stream",
          "name": "stdout",
          "text": [
            "Before One hot encoding (60000,) After one hot encoding (60000, 10)\n",
            "Before One hot encoding (10000,) After one hot encoding (10000, 10)\n"
          ]
        }
      ]
    },
    {
      "cell_type": "markdown",
      "source": [
        "### Define Model Function"
      ],
      "metadata": {
        "id": "SQaB3Uisz3m5"
      }
    },
    {
      "cell_type": "code",
      "source": [
        "def nn_model(number_pixes,num_classes):\n",
        "  model = Sequential()\n",
        "  model.add(Dense(number_pixes,input_dim = number_pixes,activation='relu'))\n",
        "  model.add(Dense(num_classes,activation='softmax'))\n",
        "\n",
        "  model.compile(loss='categorical_crossentropy',optimizer = 'adam',metrics=['accuracy'])\n",
        "  return model"
      ],
      "metadata": {
        "id": "BElVHMMkHn40"
      },
      "execution_count": null,
      "outputs": []
    },
    {
      "cell_type": "markdown",
      "source": [
        "#### Run the model\n",
        "\n"
      ],
      "metadata": {
        "id": "GrC1rTsN2GLN"
      }
    },
    {
      "cell_type": "code",
      "source": [
        "number_pixes,num_classes =( X_train.shape[1] *X_train.shape[2]),10\n",
        "model = nn_model(number_pixes,num_classes)\n",
        "model.fit(X_train_reshaped,y_train_one_hot,validation_data=(X_test_reshaped,y_test_one_hot),epochs=10,batch_size=300,verbose=2)\n",
        "score = model.evaluate(X_test_reshaped,y_test_one_hot,verbose=0)\n",
        "print('The error is:%.2f%%'%(100-score[1]*100))"
      ],
      "metadata": {
        "id": "nDigvryqHn-F",
        "colab": {
          "base_uri": "https://localhost:8080/"
        },
        "outputId": "c4db6070-ff9a-4015-aace-1e26c0efe501"
      },
      "execution_count": null,
      "outputs": [
        {
          "output_type": "stream",
          "name": "stdout",
          "text": [
            "Epoch 1/10\n",
            "200/200 - 10s - loss: 0.3159 - accuracy: 0.9116 - val_loss: 0.1667 - val_accuracy: 0.9497 - 10s/epoch - 51ms/step\n",
            "Epoch 2/10\n",
            "200/200 - 1s - loss: 0.1290 - accuracy: 0.9632 - val_loss: 0.1069 - val_accuracy: 0.9668 - 1s/epoch - 5ms/step\n",
            "Epoch 3/10\n",
            "200/200 - 1s - loss: 0.0859 - accuracy: 0.9753 - val_loss: 0.0884 - val_accuracy: 0.9729 - 1s/epoch - 5ms/step\n",
            "Epoch 4/10\n",
            "200/200 - 1s - loss: 0.0621 - accuracy: 0.9828 - val_loss: 0.0727 - val_accuracy: 0.9767 - 1s/epoch - 7ms/step\n",
            "Epoch 5/10\n",
            "200/200 - 1s - loss: 0.0460 - accuracy: 0.9869 - val_loss: 0.0667 - val_accuracy: 0.9789 - 1s/epoch - 7ms/step\n",
            "Epoch 6/10\n",
            "200/200 - 1s - loss: 0.0353 - accuracy: 0.9905 - val_loss: 0.0635 - val_accuracy: 0.9799 - 1s/epoch - 7ms/step\n",
            "Epoch 7/10\n",
            "200/200 - 2s - loss: 0.0280 - accuracy: 0.9923 - val_loss: 0.0626 - val_accuracy: 0.9807 - 2s/epoch - 8ms/step\n",
            "Epoch 8/10\n",
            "200/200 - 2s - loss: 0.0213 - accuracy: 0.9948 - val_loss: 0.0637 - val_accuracy: 0.9799 - 2s/epoch - 10ms/step\n",
            "Epoch 9/10\n",
            "200/200 - 2s - loss: 0.0159 - accuracy: 0.9967 - val_loss: 0.0587 - val_accuracy: 0.9814 - 2s/epoch - 12ms/step\n",
            "Epoch 10/10\n",
            "200/200 - 2s - loss: 0.0127 - accuracy: 0.9974 - val_loss: 0.0602 - val_accuracy: 0.9812 - 2s/epoch - 10ms/step\n",
            "The error is:1.88%\n"
          ]
        }
      ]
    },
    {
      "cell_type": "code",
      "source": [
        "model.summary()"
      ],
      "metadata": {
        "id": "oTZOjTsBHoAr",
        "colab": {
          "base_uri": "https://localhost:8080/"
        },
        "outputId": "dcf1713e-ffd7-4836-cb7e-82a863cd0e07"
      },
      "execution_count": null,
      "outputs": [
        {
          "output_type": "stream",
          "name": "stdout",
          "text": [
            "Model: \"sequential\"\n",
            "_________________________________________________________________\n",
            " Layer (type)                Output Shape              Param #   \n",
            "=================================================================\n",
            " dense (Dense)               (None, 784)               615440    \n",
            "                                                                 \n",
            " dense_1 (Dense)             (None, 10)                7850      \n",
            "                                                                 \n",
            "=================================================================\n",
            "Total params: 623290 (2.38 MB)\n",
            "Trainable params: 623290 (2.38 MB)\n",
            "Non-trainable params: 0 (0.00 Byte)\n",
            "_________________________________________________________________\n"
          ]
        }
      ]
    },
    {
      "cell_type": "markdown",
      "source": [
        "### Building CNN model"
      ],
      "metadata": {
        "id": "TRGMyElqLWWu"
      }
    },
    {
      "cell_type": "code",
      "source": [
        "import tensorflow as tf\n",
        "import numpy as np\n",
        "import matplotlib.pyplot as plt\n",
        "import matplotlib.image as mgimg\n",
        "from tensorflow.keras.models import Sequential\n",
        "from tensorflow.keras.layers import Dense, Flatten, Dropout, Conv2D, MaxPooling2D"
      ],
      "metadata": {
        "id": "zvOpks56HoFo"
      },
      "execution_count": null,
      "outputs": []
    },
    {
      "cell_type": "markdown",
      "source": [
        "#### Reshaping the data"
      ],
      "metadata": {
        "id": "YDEyOqvFPlpb"
      }
    },
    {
      "cell_type": "code",
      "source": [
        "x_train_reshape = X_train.reshape(X_train.shape[0],1,28,28)\n",
        "x_test_reshape = X_test.reshape(X_test.shape[0],1,28,28)"
      ],
      "metadata": {
        "id": "x3-zFzZPP1bc"
      },
      "execution_count": null,
      "outputs": []
    },
    {
      "cell_type": "code",
      "source": [
        "print(f'Before Reshaping Xtrain {X_train.shape} After reshaping Xtrain {x_train_reshape.shape}')\n",
        "print(f'Before Reshaping Xtest {X_test.shape} After reshaping Xtest {x_test_reshape.shape}')"
      ],
      "metadata": {
        "colab": {
          "base_uri": "https://localhost:8080/"
        },
        "id": "rExkPOb8OTDT",
        "outputId": "24f5495d-87a6-4ac1-ee5b-37af645b9025"
      },
      "execution_count": null,
      "outputs": [
        {
          "output_type": "stream",
          "name": "stdout",
          "text": [
            "Before Reshaping Xtrain (60000, 28, 28) After reshaping Xtrain (60000, 1, 28, 28)\n",
            "Before Reshaping Xtest (10000, 28, 28) After reshaping Xtest (10000, 1, 28, 28)\n"
          ]
        }
      ]
    },
    {
      "cell_type": "code",
      "source": [
        "print(f'Before Reshaping Dimen {X_train.ndim} After Reshaping Dimen {x_train_reshape.ndim}')\n",
        "print(f'Before Reshaping Dimen {X_test.ndim} After Reshaping Dimen {x_test_reshape.ndim}')"
      ],
      "metadata": {
        "colab": {
          "base_uri": "https://localhost:8080/"
        },
        "id": "qD1xu3h4Q5J6",
        "outputId": "1f250eb3-c01f-46ef-bf0c-8fd4e5778ead"
      },
      "execution_count": null,
      "outputs": [
        {
          "output_type": "stream",
          "name": "stdout",
          "text": [
            "Before Reshaping Dimen 3 After Reshaping Dimen 4\n",
            "Before Reshaping Dimen 3 After Reshaping Dimen 4\n"
          ]
        }
      ]
    },
    {
      "cell_type": "markdown",
      "source": [
        "#### Normalize the input data  and One hot encoding for target variables\n",
        "\n"
      ],
      "metadata": {
        "id": "_UqSWoC0Rge7"
      }
    },
    {
      "cell_type": "code",
      "source": [
        "no_of_classes = 10\n",
        "x_train_scaled = x_train_reshape/255.0\n",
        "x_test_scaled = x_test_reshape/255.0\n",
        "y_train_scaled = tf.one_hot(y_train,depth=no_of_classes)\n",
        "y_test_scaled = tf.one_hot(y_test,depth=no_of_classes)"
      ],
      "metadata": {
        "id": "mRRwK1icRqeb"
      },
      "execution_count": null,
      "outputs": []
    },
    {
      "cell_type": "code",
      "source": [
        "print(f\"before one hot encoding {y_train.shape} after one hot encoding {y_train_scaled.shape}\")\n",
        "print(f\"before one hot encoding {y_test.shape} after one hot encoding {y_test_scaled.shape}\")"
      ],
      "metadata": {
        "colab": {
          "base_uri": "https://localhost:8080/"
        },
        "id": "h2jmkEeVSii1",
        "outputId": "9570372e-f68b-49d0-9d5f-fb5c33a6f7c1"
      },
      "execution_count": null,
      "outputs": [
        {
          "output_type": "stream",
          "name": "stdout",
          "text": [
            "before one hot encoding (60000,) after one hot encoding (60000, 10)\n",
            "before one hot encoding (10000,) after one hot encoding (10000, 10)\n"
          ]
        }
      ]
    },
    {
      "cell_type": "markdown",
      "source": [
        "#### Model"
      ],
      "metadata": {
        "id": "rxl2C97STCFC"
      }
    },
    {
      "cell_type": "code",
      "source": [
        "def cnn_model():\n",
        "  model = Sequential()\n",
        "  model.add(Conv2D(32,5,5,padding='same',input_shape=(1,28,28),activation='relu'))\n",
        "  model.add(MaxPooling2D(pool_size=(2,2),padding='same'))\n",
        "  model.add(Dropout(0.2))\n",
        "\n",
        "  model.add(Flatten())\n",
        "  model.add(Dense(128,activation='relu'))\n",
        "  model.add(Dense(10,activation='softmax'))\n",
        "  model.compile(loss='categorical_crossentropy',optimizer='adam',metrics=['accuracy'])\n",
        "  return model"
      ],
      "metadata": {
        "id": "kD1A_g8sTBUo"
      },
      "execution_count": null,
      "outputs": []
    },
    {
      "cell_type": "code",
      "source": [
        "c_model = cnn_model()\n",
        "c_model.fit(x_train_scaled,y_train_scaled,validation_data=(x_test_scaled,y_test_scaled),epochs=12,batch_size=400,verbose=2)\n",
        "score = c_model.evaluate(x_test_scaled,y_test_scaled,verbose=0)\n",
        "print('The error is: %.2f%%'%(100-score[1]*100))"
      ],
      "metadata": {
        "colab": {
          "base_uri": "https://localhost:8080/"
        },
        "id": "FvqWWLskVkf_",
        "outputId": "d0e5e5ae-9bed-49fd-f50b-2d5b7d16e14b"
      },
      "execution_count": null,
      "outputs": [
        {
          "output_type": "stream",
          "name": "stdout",
          "text": [
            "Epoch 1/12\n",
            "150/150 - 9s - loss: 1.0158 - accuracy: 0.6985 - val_loss: 0.3889 - val_accuracy: 0.8856 - 9s/epoch - 59ms/step\n",
            "Epoch 2/12\n",
            "150/150 - 1s - loss: 0.4280 - accuracy: 0.8677 - val_loss: 0.2711 - val_accuracy: 0.9186 - 592ms/epoch - 4ms/step\n",
            "Epoch 3/12\n",
            "150/150 - 1s - loss: 0.3349 - accuracy: 0.8958 - val_loss: 0.2255 - val_accuracy: 0.9309 - 587ms/epoch - 4ms/step\n",
            "Epoch 4/12\n",
            "150/150 - 1s - loss: 0.2911 - accuracy: 0.9109 - val_loss: 0.1895 - val_accuracy: 0.9431 - 694ms/epoch - 5ms/step\n",
            "Epoch 5/12\n",
            "150/150 - 1s - loss: 0.2590 - accuracy: 0.9197 - val_loss: 0.1677 - val_accuracy: 0.9514 - 648ms/epoch - 4ms/step\n",
            "Epoch 6/12\n",
            "150/150 - 1s - loss: 0.2396 - accuracy: 0.9253 - val_loss: 0.1534 - val_accuracy: 0.9538 - 647ms/epoch - 4ms/step\n",
            "Epoch 7/12\n",
            "150/150 - 1s - loss: 0.2203 - accuracy: 0.9307 - val_loss: 0.1480 - val_accuracy: 0.9547 - 572ms/epoch - 4ms/step\n",
            "Epoch 8/12\n",
            "150/150 - 1s - loss: 0.2074 - accuracy: 0.9358 - val_loss: 0.1331 - val_accuracy: 0.9602 - 651ms/epoch - 4ms/step\n",
            "Epoch 9/12\n",
            "150/150 - 1s - loss: 0.1981 - accuracy: 0.9378 - val_loss: 0.1320 - val_accuracy: 0.9581 - 582ms/epoch - 4ms/step\n",
            "Epoch 10/12\n",
            "150/150 - 1s - loss: 0.1862 - accuracy: 0.9426 - val_loss: 0.1230 - val_accuracy: 0.9624 - 570ms/epoch - 4ms/step\n",
            "Epoch 11/12\n",
            "150/150 - 1s - loss: 0.1833 - accuracy: 0.9440 - val_loss: 0.1163 - val_accuracy: 0.9641 - 583ms/epoch - 4ms/step\n",
            "Epoch 12/12\n",
            "150/150 - 1s - loss: 0.1767 - accuracy: 0.9446 - val_loss: 0.1135 - val_accuracy: 0.9650 - 582ms/epoch - 4ms/step\n",
            "The error is: 3.50%\n"
          ]
        }
      ]
    },
    {
      "cell_type": "code",
      "source": [
        "c_model.summary()"
      ],
      "metadata": {
        "colab": {
          "base_uri": "https://localhost:8080/"
        },
        "id": "dgK0ZDNA4uPm",
        "outputId": "37797749-5af8-4047-9e30-493a0edf71f9"
      },
      "execution_count": null,
      "outputs": [
        {
          "output_type": "stream",
          "name": "stdout",
          "text": [
            "Model: \"sequential_1\"\n",
            "_________________________________________________________________\n",
            " Layer (type)                Output Shape              Param #   \n",
            "=================================================================\n",
            " conv2d (Conv2D)             (None, 1, 6, 32)          22432     \n",
            "                                                                 \n",
            " max_pooling2d (MaxPooling2  (None, 1, 3, 32)          0         \n",
            " D)                                                              \n",
            "                                                                 \n",
            " dropout (Dropout)           (None, 1, 3, 32)          0         \n",
            "                                                                 \n",
            " flatten (Flatten)           (None, 96)                0         \n",
            "                                                                 \n",
            " dense_2 (Dense)             (None, 128)               12416     \n",
            "                                                                 \n",
            " dense_3 (Dense)             (None, 10)                1290      \n",
            "                                                                 \n",
            "=================================================================\n",
            "Total params: 36138 (141.16 KB)\n",
            "Trainable params: 36138 (141.16 KB)\n",
            "Non-trainable params: 0 (0.00 Byte)\n",
            "_________________________________________________________________\n"
          ]
        }
      ]
    }
  ]
}